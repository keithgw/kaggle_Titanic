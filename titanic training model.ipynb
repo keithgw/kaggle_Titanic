{
 "metadata": {
  "name": "titanic training model.ipynb"
 },
 "nbformat": 3,
 "nbformat_minor": 0,
 "worksheets": [
  {
   "cells": [
    {
     "cell_type": "heading",
     "level": 1,
     "metadata": {},
     "source": [
      "An Machine Learning Exercise using Titanic Survivor Data"
     ]
    },
    {
     "cell_type": "heading",
     "level": 2,
     "metadata": {},
     "source": [
      "Variable Descriptions"
     ]
    },
    {
     "cell_type": "raw",
     "metadata": {},
     "source": [
      "survival        Survival\n",
      "                (0 = No; 1 = Yes)\n",
      "pclass          Passenger Class\n",
      "                (1 = 1st; 2 = 2nd; 3 = 3rd)\n",
      "name            Name\n",
      "sex             Sex\n",
      "age             Age\n",
      "sibsp           Number of Siblings/Spouses Aboard\n",
      "parch           Number of Parents/Children Aboard\n",
      "ticket          Ticket Number\n",
      "fare            Passenger Fare\n",
      "cabin           Cabin\n",
      "embarked        Port of Embarkation\n",
      "                (C = Cherbourg; Q = Queenstown; S = Southampton)\n",
      "\n",
      "SPECIAL NOTES:\n",
      "Pclass is a proxy for socio-economic status (SES)\n",
      " 1st ~ Upper; 2nd ~ Middle; 3rd ~ Lower\n",
      "\n",
      "Age is in Years; Fractional if Age less than One (1)\n",
      " If the Age is Estimated, it is in the form xx.5\n",
      "\n",
      "With respect to the family relation variables (i.e. sibsp and parch)\n",
      "some relations were ignored.  The following are the definitions used\n",
      "for sibsp and parch.\n",
      "\n",
      "Sibling:  Brother, Sister, Stepbrother, or Stepsister of Passenger Aboard Titanic\n",
      "Spouse:   Husband or Wife of Passenger Aboard Titanic (Mistresses and Fiances Ignored)\n",
      "Parent:   Mother or Father of Passenger Aboard Titanic\n",
      "Child:    Son, Daughter, Stepson, or Stepdaughter of Passenger Aboard Titanic\n",
      "\n",
      "Other family relatives excluded from this study include cousins,\n",
      "nephews/nieces, aunts/uncles, and in-laws.  Some children travelled\n",
      "only with a nanny, therefore parch=0 for them.  As well, some\n",
      "travelled with very close friends or neighbors in a village, however,\n",
      "the definitions do not support such relations.\n"
     ]
    },
    {
     "cell_type": "heading",
     "level": 3,
     "metadata": {},
     "source": [
      "Data Has Format:"
     ]
    },
    {
     "cell_type": "raw",
     "metadata": {},
     "source": [
      "PassengerId    Survived    Pclass    Name     Sex    Age    SibSp    Parch    Ticket    Fare    Cabin    Embarked\n",
      "1              0           3         Brand,   male   22     1        0        A/5 21171 7.25             S\n",
      "                                     Mr. Owen Harris"
     ]
    },
    {
     "cell_type": "code",
     "collapsed": false,
     "input": [
      "from numpy import loadtxt, size, where, arange, logical_and\n",
      "from matplotlib.pyplot import bar, plot, legend, xlabel, ylabel, xticks, show\n",
      "\n",
      "# load data as string, skip name, ticket, cabin\n",
      "data = loadtxt('train.csv', dtype=str, delimiter=',', skiprows=1, usecols=[0,1,2,5,6,7,8,10,12])"
     ],
     "language": "python",
     "metadata": {},
     "outputs": [],
     "prompt_number": 103
    },
    {
     "cell_type": "code",
     "collapsed": false,
     "input": [
      "# Variables for column indices\n",
      "PASSENGER_ID = 0\n",
      "SURVIVED = 1\n",
      "P_CLASS = 2\n",
      "SEX = 3\n",
      "AGE = 4\n",
      "SIB_SP = 5\n",
      "PARCH = 6\n",
      "FARE = 7\n",
      "EMBARKED = 8\n",
      "BREAK = '=' * 90"
     ],
     "language": "python",
     "metadata": {},
     "outputs": [],
     "prompt_number": 2
    },
    {
     "cell_type": "heading",
     "level": 2,
     "metadata": {},
     "source": [
      "Overall Survival Rate"
     ]
    },
    {
     "cell_type": "code",
     "collapsed": false,
     "input": [
      "# calculate proportion of survivors P(survival)\n",
      "number_passengers = float(data[:, PASSENGER_ID].size)\n",
      "number_survivors = sum(data[:,SURVIVED].astype(float))\n",
      "proportion_survivors = number_survivors / number_passengers"
     ],
     "language": "python",
     "metadata": {},
     "outputs": [],
     "prompt_number": 3
    },
    {
     "cell_type": "code",
     "collapsed": false,
     "input": [
      "print 'Passengers: ', int(number_passengers)\n",
      "print 'Survivors: ', int(number_survivors)\n",
      "print 'Survival Rate: {:.2f}%'.format(proportion_survivors * 100)"
     ],
     "language": "python",
     "metadata": {},
     "outputs": [
      {
       "output_type": "stream",
       "stream": "stdout",
       "text": [
        "Passengers:  891\n",
        "Survivors:  342\n",
        "Survival Rate: 38.38%\n"
       ]
      }
     ],
     "prompt_number": 17
    },
    {
     "cell_type": "heading",
     "level": 2,
     "metadata": {},
     "source": [
      "Sex Hypothesis"
     ]
    },
    {
     "cell_type": "markdown",
     "metadata": {},
     "source": [
      "The null hypothesis is that the probability of survival, given a sex is equal to the survival rate.\n",
      "\n",
      "P(survival|sex=male or sex=female) = P(survival)"
     ]
    },
    {
     "cell_type": "code",
     "collapsed": false,
     "input": [
      "# calculate sex survival rates\n",
      "# H0: P(survival|female) = P(survival)\n",
      "women_only = data[:, SEX] == 'female'\n",
      "men_only = data[:, SEX] == 'male'\n",
      "female_survivors = sum(data[where(women_only)[0], SURVIVED].astype(float))\n",
      "male_survivors = sum(data[where(men_only)[0], SURVIVED].astype(float))\n",
      "proportion_female_survivors = female_survivors / sum(women_only) # mean of a Bernouli Distribution\n",
      "proportion_male_survivors = male_survivors / sum(men_only)"
     ],
     "language": "python",
     "metadata": {},
     "outputs": [],
     "prompt_number": 18
    },
    {
     "cell_type": "code",
     "collapsed": false,
     "input": [
      "# make a two-way table for sex vs survival\n",
      "print '{0:>15}{1:^10}{2:^10}{3:>10}'.format('', 'Survived', '!Survive', 'Row Total')\n",
      "print '{0:>15}{1:^10.0f}{2:^10.0f}{3:^10}'.format('female', female_survivors, \n",
      "                                                    sum(women_only) - female_survivors, \n",
      "                                                    sum(women_only))\n",
      "print '{0:>15}{1:^10.0f}{2:^10.0f}{3:^10}'.format('male', male_survivors, \n",
      "                                                    sum(men_only) - male_survivors, \n",
      "                                                    sum(men_only))\n",
      "print '{0:>15}{1:^10.0f}{2:^10.0f}{3:^10.0f}'.format('Column Total', number_survivors, \n",
      "                                                    number_passengers - number_survivors, \n",
      "                                                    number_passengers)"
     ],
     "language": "python",
     "metadata": {},
     "outputs": [
      {
       "output_type": "stream",
       "stream": "stdout",
       "text": [
        "                Survived  !Survive  Row Total\n",
        "         female   233        81       314    \n",
        "           male   109       468       577    \n",
        "   Column Total   342       549       891    \n"
       ]
      }
     ],
     "prompt_number": 21
    },
    {
     "cell_type": "heading",
     "level": 4,
     "metadata": {},
     "source": [
      "Sex Hypothesis Analysis"
     ]
    },
    {
     "cell_type": "code",
     "collapsed": false,
     "input": [
      "print 'The probability of survival, P(survival):{:13.2f}%'.format(proportion_survivors * 100)\n",
      "print 'The female survival rate, P(survival | female):{:7.2f}%'.format(proportion_female_survivors * 100)\n",
      "print 'The male survival rate, P(survival | male): {:10.2f}%'.format(proportion_male_survivors * 100)\n",
      "print 'The null hypothesis, P(survival | female) = P(survival) can be rejected'\n",
      "print 'Being female provides a {:.2f}x probability of survival'.format(proportion_female_survivors/proportion_survivors)"
     ],
     "language": "python",
     "metadata": {},
     "outputs": [
      {
       "output_type": "stream",
       "stream": "stdout",
       "text": [
        "The probability of survival, P(survival):        38.38%\n",
        "The female survival rate, P(survival | female):  74.20%\n",
        "The male survival rate, P(survival | male):      18.89%\n",
        "The null hypothesis, P(survival | female) = P(survival) can be rejected\n",
        "Being female provides a 1.93x probability of survival\n"
       ]
      }
     ],
     "prompt_number": 70
    },
    {
     "cell_type": "code",
     "collapsed": false,
     "input": [
      "sexes = ('female', 'male')\n",
      "x_pos = arange(1, len(sexes) + 1)\n",
      "bar(x_pos, (proportion_female_survivors, proportion_male_survivors), align='center', alpha=0.4)\n",
      "x_line = (x_pos[0] - 0.5, x_pos[-1] + 0.5)\n",
      "survival_rate = (proportion_survivors, proportion_survivors)\n",
      "xticks(x_pos, sexes)\n",
      "xlabel('Sex')\n",
      "ylabel('Survival Rate')\n",
      "title('Survival Rates by Sex')\n",
      "plot(x_line, survival_rate, 'r-', label='General Survival Rate')\n",
      "legend()\n",
      "show()"
     ],
     "language": "python",
     "metadata": {},
     "outputs": [
      {
       "metadata": {},
       "output_type": "display_data",
       "png": "[encoded data removed]",
       "text": [
        "<matplotlib.figure.Figure at 0x78a9ef0>"
       ]
      }
     ],
     "prompt_number": 77
    },
    {
     "cell_type": "heading",
     "level": 2,
     "metadata": {},
     "source": [
      "Class Hypothesis"
     ]
    },
    {
     "cell_type": "markdown",
     "metadata": {},
     "source": [
      "Passengers fall into 3 classes, which are a proxy for socioeconomic status (SES).\n",
      "\n",
      "The null hypothesis is that the survival rate, given passenger class is equal to the general survival rate.\n",
      "\n",
      "P(survival | class=1st or class=2nd or class=3rd) = P(survival)"
     ]
    },
    {
     "cell_type": "code",
     "collapsed": false,
     "input": [
      "# calculate class survival rates\n",
      "first_class = data[:, P_CLASS] == '1'\n",
      "second_class = data[:, P_CLASS] == '2'\n",
      "third_class = data[:, P_CLASS] == '3'\n",
      "first_class_survivors = sum(data[where(first_class)[0], SURVIVED].astype(float))\n",
      "second_class_survivors = sum(data[where(second_class)[0], SURVIVED].astype(float))\n",
      "third_class_survivors = sum(data[where(third_class)[0], SURVIVED].astype(float))\n",
      "first_class_rate = first_class_survivors / sum(first_class)\n",
      "second_class_rate = second_class_survivors / sum(second_class)\n",
      "third_class_rate = third_class_survivors / sum(third_class)"
     ],
     "language": "python",
     "metadata": {},
     "outputs": [],
     "prompt_number": 48
    },
    {
     "cell_type": "code",
     "collapsed": false,
     "input": [
      "# make a two-way table for survival dependence on class\n",
      "print '{0:>15}{1:^10}{2:^10}{3:>10}'.format('', 'Survived', '!Survive', 'Row Total')\n",
      "print '{0:>15}{1:^10.0f}{2:^10.0f}{3:^10}'.format('1st Class', first_class_survivors, \n",
      "                                                    sum(first_class) - first_class_survivors, \n",
      "                                                    sum(first_class))\n",
      "print '{0:>15}{1:^10.0f}{2:^10.0f}{3:^10}'.format('2nd Class', second_class_survivors, \n",
      "                                                    sum(second_class) - second_class_survivors, \n",
      "                                                    sum(second_class))\n",
      "print '{0:>15}{1:^10.0f}{2:^10.0f}{3:^10}'.format('3rd Class', third_class_survivors, \n",
      "                                                    sum(third_class) - third_class_survivors, \n",
      "                                                    sum(third_class))\n",
      "print '{0:>15}{1:^10.0f}{2:^10.0f}{3:^10.0f}'.format('Column Total', number_survivors, \n",
      "                                                    number_passengers - number_survivors, \n",
      "                                                    number_passengers)"
     ],
     "language": "python",
     "metadata": {},
     "outputs": [
      {
       "output_type": "stream",
       "stream": "stdout",
       "text": [
        "                Survived  !Survive  Row Total\n",
        "      1st Class   136        80       216    \n",
        "      2nd Class    87        97       184    \n",
        "      3rd Class   119       372       491    \n",
        "   Column Total   342       549       891    \n"
       ]
      }
     ],
     "prompt_number": 53
    },
    {
     "cell_type": "heading",
     "level": 4,
     "metadata": {},
     "source": [
      "Class Hypothesis Analysis"
     ]
    },
    {
     "cell_type": "code",
     "collapsed": false,
     "input": [
      "print '          The probability of survival, P(survival):{:18.2f}%'.format(proportion_survivors * 100)\n",
      "print 'The 1st class passenger survival rate, P(survival | class=1st):{:6.2f}%'.format(first_class_rate * 100)\n",
      "print 'The 2nd class passenger survival rate, P(survival | class=2nd):{:6.2f}%'.format(second_class_rate * 100)\n",
      "print 'The 3rd class passenger survival rate, P(survival | class=3rd):{:6.2f}%'.format(third_class_rate * 100)\n",
      "print 'The null hypothesis, P(survival | class) = P(survival) can be rejected'\n",
      "print 'Being a first class passenger provides a \\\n",
      "{:.2f}x probability of survival'.format(first_class_rate / proportion_survivors)\n",
      "print 'Being a second class passenger provides a \\\n",
      "{:.2f}x probability of survival'.format(second_class_rate / proportion_survivors)"
     ],
     "language": "python",
     "metadata": {},
     "outputs": [
      {
       "output_type": "stream",
       "stream": "stdout",
       "text": [
        "          The probability of survival, P(survival):             38.38%\n",
        "The 1st class passenger survival rate, P(survival | class=1st): 62.96%\n",
        "The 2nd class passenger survival rate, P(survival | class=2nd): 47.28%\n",
        "The 3rd class passenger survival rate, P(survival | class=3rd): 24.24%\n",
        "The null hypothesis, P(survival | class) = P(survival) can be rejected\n",
        "Being a first class passenger provides a 1.64X probability of survival\n",
        "Being a second class passenger provides a 1.23X probability of survival\n"
       ]
      }
     ],
     "prompt_number": 69
    },
    {
     "cell_type": "code",
     "collapsed": false,
     "input": [
      "classes = ('first class', 'second class', 'third class')\n",
      "x_pos = arange(1,4)\n",
      "class_survival_rates = (first_class_rate, second_class_rate, third_class_rate)\n",
      "bar(x_pos, class_survival_rates, align='center', alpha=0.4)\n",
      "x_line = (x_pos[0] - 0.5, x_pos[-1] + 0.5)\n",
      "survival_rate = (proportion_survivors, proportion_survivors)\n",
      "xticks(x_pos, classes)\n",
      "xlabel('Passenger Class')\n",
      "ylabel('Survival Rate')\n",
      "title('Survival Rates by Passenger Class')\n",
      "plot(x_line, survival_rate, 'r-', label='General Survival Rate')\n",
      "legend()\n",
      "show()"
     ],
     "language": "python",
     "metadata": {},
     "outputs": [
      {
       "metadata": {},
       "output_type": "display_data",
       "png": "[encoded data removed]",
       "text": [
        "<matplotlib.figure.Figure at 0x78a29e8>"
       ]
      }
     ],
     "prompt_number": 75
    },
    {
     "cell_type": "heading",
     "level": 2,
     "metadata": {},
     "source": [
      "Sex and Passenger Class Analysis"
     ]
    },
    {
     "cell_type": "markdown",
     "metadata": {},
     "source": [
      "Now that sex and class have been shown to correlate with survival rates, the conditional survival rates incorporating both sex and class will be analyzed."
     ]
    },
    {
     "cell_type": "code",
     "collapsed": false,
     "input": [
      "# calculate the conditional survival rates given sex and class\n",
      "rate_f1 = mean(data[where(logical_and(women_only, first_class))[0], SURVIVED].astype(float))\n",
      "rate_f2 = mean(data[where(logical_and(women_only, second_class))[0], SURVIVED].astype(float))\n",
      "rate_f3 = mean(data[where(logical_and(women_only, third_class))[0], SURVIVED].astype(float))\n",
      "rate_m1 = mean(data[where(logical_and(men_only, first_class))[0], SURVIVED].astype(float))\n",
      "rate_m2 = mean(data[where(logical_and(men_only, second_class))[0], SURVIVED].astype(float))\n",
      "rate_m3 = mean(data[where(logical_and(men_only, second_class))[0], SURVIVED].astype(float))\n"
     ],
     "language": "python",
     "metadata": {},
     "outputs": [],
     "prompt_number": 106
    },
    {
     "cell_type": "code",
     "collapsed": false,
     "input": [
      "# create a two-way table of survival rates\n",
      "print 'The general survival rate is {:.2f}%'.format(proportion_survivors * 100)\n",
      "print '{0:>17}{1:>9}{2:>7}{3:>24}'.format('', 'female', 'male', 'Combined Class Rate')\n",
      "print '{0:>17}{1:>8.2f}%{2:>8.2f}%{3:>8.2f}%'.format('1st Class', rate_f1 * 100, rate_m1 * 100, first_class_rate * 100)\n",
      "print '{0:>17}{1:>8.2f}%{2:>8.2f}%{3:>8.2f}%'.format('2nd Class', rate_f2 * 100, rate_m2 * 100, second_class_rate * 100)\n",
      "print '{0:>17}{1:>8.2f}%{2:>8.2f}%{3:>8.2f}%'.format('3rd Class', rate_f3 * 100, rate_m3 * 100, third_class_rate * 100)\n",
      "print '{0:>15}{1:>8.2f}%{2:>8.2f}%'.format('Combined Sex Rate', proportion_female_survivors * 100, \n",
      "                                                     proportion_male_survivors * 100)"
     ],
     "language": "python",
     "metadata": {},
     "outputs": [
      {
       "output_type": "stream",
       "stream": "stdout",
       "text": [
        "The general survival rate is 38.38%\n",
        "                    female   male     Combined Class Rate\n",
        "        1st Class   96.81%   36.89%   62.96%\n",
        "        2nd Class   92.11%   15.74%   47.28%\n",
        "        3rd Class   50.00%   15.74%   24.24%\n",
        "Combined Sex Rate   74.20%   18.89%\n"
       ]
      }
     ],
     "prompt_number": 129
    },
    {
     "cell_type": "code",
     "collapsed": false,
     "input": [
      "sex_classes = ('female 1st class', 'female 2nd class', 'female 3rd class', 'male 1st class', 'male 2nd class', 'male 3rd class')\n",
      "x_pos = arange(1, len(sex_classes) + 1)\n",
      "sex_class_rates = (rate_f1, rate_f2, rate_f3, rate_m1, rate_m2, rate_m3)\n",
      "bar(x_pos, sex_class_rates, align='center', alpha=0.4)\n",
      "x_line = (x_pos[0] - 0.5, x_pos[-1] + 0.5)\n",
      "survival_rate = (proportion_survivors, proportion_survivors)\n",
      "xticks(x_pos, sex_classes, rotation=17)\n",
      "xlabel('Sex and Passenger Class')\n",
      "ylabel('Survival Rate')\n",
      "title('Survival Rates by Sex & Passenger Class')\n",
      "plot(x_line, survival_rate, 'r-', label='General Survival Rate')\n",
      "legend()\n",
      "show()"
     ],
     "language": "python",
     "metadata": {},
     "outputs": [
      {
       "metadata": {},
       "output_type": "display_data",
       "png": "[encoded data removed]",
       "text": [
        "<matplotlib.figure.Figure at 0x78598d0>"
       ]
      }
     ],
     "prompt_number": 131
    },
    {
     "cell_type": "heading",
     "level": 2,
     "metadata": {},
     "source": [
      "Age Hypothesis"
     ]
    },
    {
     "cell_type": "markdown",
     "metadata": {},
     "source": [
      "If females show a higher survival rate, it is possible that children also show a higher survival rate.  This intuition comes from the idea that women and children would have been the first in the lifeboats.  However, the data on age is incomplete, so first missing age values must be predicted based on other parameters."
     ]
    },
    {
     "cell_type": "code",
     "collapsed": false,
     "input": [
      "# calculate the % of missing data\n",
      "no_age = data[:, AGE] == ''\n",
      "print 'Number of missing age data: {}'.format(sum(no_age))\n",
      "print 'Percent of missing age data: {:.0f}%'.format(mean(no_age) * 100)"
     ],
     "language": "python",
     "metadata": {},
     "outputs": [
      {
       "output_type": "stream",
       "stream": "stdout",
       "text": [
        "Number of missing age data: 177\n",
        "Percent of missing age data: 20%\n"
       ]
      }
     ],
     "prompt_number": 94
    },
    {
     "cell_type": "markdown",
     "metadata": {},
     "source": [
      "20% of missing data is too large to ignore.  "
     ]
    }
   ],
   "metadata": {}
  }
 ]
}